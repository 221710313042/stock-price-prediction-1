{
  "nbformat": 4,
  "nbformat_minor": 0,
  "metadata": {
    "kernelspec": {
      "display_name": "Python 3",
      "language": "python",
      "name": "python3"
    },
    "language_info": {
      "codemirror_mode": {
        "name": "ipython",
        "version": 3
      },
      "file_extension": ".py",
      "mimetype": "text/x-python",
      "name": "python",
      "nbconvert_exporter": "python",
      "pygments_lexer": "ipython3",
      "version": "3.7.4"
    },
    "colab": {
      "name": "project",
      "provenance": [],
      "collapsed_sections": []
    }
  },
  "cells": [
    {
      "cell_type": "markdown",
      "metadata": {
        "id": "QQ3Xu3N2JaI8",
        "colab_type": "text"
      },
      "source": [
        "# PROBLEM STATEMENT\n",
        " The Main Aim of this project is to predict the stock prices of a particular company using the stock market dataset.In this project, I am going to use LSTM networks to predict stock prices.It's important to note that there are always other factors that affect the price of stocks ,such as the political atmosphere and the market.However,we won't focus on those factors for this project.This type of problem comes under time series prediction."
      ]
    },
    {
      "cell_type": "markdown",
      "metadata": {
        "id": "PUq4gOGvLfNl",
        "colab_type": "text"
      },
      "source": [
        "# mount the google drive"
      ]
    },
    {
      "cell_type": "code",
      "metadata": {
        "id": "jsbeCs2nbfr2",
        "colab_type": "code",
        "colab": {
          "base_uri": "https://localhost:8080/",
          "height": 141
        },
        "outputId": "b9ceb527-b2b4-4079-87e1-8b21de23b2ca"
      },
      "source": [
        "from google.colab import drive\n",
        "drive.mount('/gdrive')\n",
        "%cd /gdrive"
      ],
      "execution_count": 1,
      "outputs": [
        {
          "output_type": "stream",
          "text": [
            "Go to this URL in a browser: https://accounts.google.com/o/oauth2/auth?client_id=947318989803-6bn6qk8qdgf4n4g3pfee6491hc0brc4i.apps.googleusercontent.com&redirect_uri=urn%3aietf%3awg%3aoauth%3a2.0%3aoob&response_type=code&scope=email%20https%3a%2f%2fwww.googleapis.com%2fauth%2fdocs.test%20https%3a%2f%2fwww.googleapis.com%2fauth%2fdrive%20https%3a%2f%2fwww.googleapis.com%2fauth%2fdrive.photos.readonly%20https%3a%2f%2fwww.googleapis.com%2fauth%2fpeopleapi.readonly\n",
            "\n",
            "Enter your authorization code:\n",
            "··········\n",
            "Mounted at /gdrive\n",
            "/gdrive\n"
          ],
          "name": "stdout"
        }
      ]
    },
    {
      "cell_type": "markdown",
      "metadata": {
        "id": "MTetN8Cv1tr5",
        "colab_type": "text"
      },
      "source": [
        "# IMPORTING PACKAGES"
      ]
    },
    {
      "cell_type": "code",
      "metadata": {
        "id": "PMWJz8xNT0Cg",
        "colab_type": "code",
        "colab": {}
      },
      "source": [
        "import numpy as np\n",
        "import pandas as pd\n",
        "import seaborn as sns\n",
        "import matplotlib.pyplot as plt\n",
        "%matplotlib inline\n",
        "import keras"
      ],
      "execution_count": 31,
      "outputs": []
    },
    {
      "cell_type": "markdown",
      "metadata": {
        "id": "L4nE-fX4_qnr",
        "colab_type": "text"
      },
      "source": [
        "# VERSIONS"
      ]
    },
    {
      "cell_type": "code",
      "metadata": {
        "id": "I0OGsW5x_Og1",
        "colab_type": "code",
        "colab": {
          "base_uri": "https://localhost:8080/",
          "height": 87
        },
        "outputId": "b88acdcf-7083-4a82-96e8-0bc56f6a54c9"
      },
      "source": [
        "print(pd.__version__)\n",
        "print(np.__version__)\n",
        "print(sns.__version__)\n",
        "print(keras.__version__)"
      ],
      "execution_count": 32,
      "outputs": [
        {
          "output_type": "stream",
          "text": [
            "1.0.5\n",
            "1.18.5\n",
            "0.10.1\n",
            "2.3.1\n"
          ],
          "name": "stdout"
        }
      ]
    },
    {
      "cell_type": "markdown",
      "metadata": {
        "id": "g3F5ASPJ1yvt",
        "colab_type": "text"
      },
      "source": [
        "# IMPORTING DATASET"
      ]
    },
    {
      "cell_type": "markdown",
      "metadata": {
        "id": "VscnVYSgMWKk",
        "colab_type": "text"
      },
      "source": [
        "I have downloaded the dataset from kaggle.https://www.kaggle.com/camnugent/sandp500/download"
      ]
    },
    {
      "cell_type": "code",
      "metadata": {
        "id": "3j7WILuZcPRQ",
        "colab_type": "code",
        "colab": {
          "base_uri": "https://localhost:8080/",
          "height": 35
        },
        "outputId": "2b0a4b3f-77e0-40ed-fb21-38692242d3c6"
      },
      "source": [
        "df = pd.read_csv('My Drive/summer internship/all_stocks_5yr.csv')\n",
        "df.shape"
      ],
      "execution_count": 4,
      "outputs": [
        {
          "output_type": "execute_result",
          "data": {
            "text/plain": [
              "(619040, 7)"
            ]
          },
          "metadata": {
            "tags": []
          },
          "execution_count": 4
        }
      ]
    },
    {
      "cell_type": "markdown",
      "metadata": {
        "id": "Nj6342yYAQyz",
        "colab_type": "text"
      },
      "source": [
        "Dataset consists of 619040 rows and 7 columns."
      ]
    },
    {
      "cell_type": "code",
      "metadata": {
        "id": "u2LTjwKoT0C-",
        "colab_type": "code",
        "colab": {
          "base_uri": "https://localhost:8080/",
          "height": 225
        },
        "outputId": "aaf96d1c-dbad-48d3-f1ee-67b116dff0fb"
      },
      "source": [
        "df.Name.value_counts()"
      ],
      "execution_count": 5,
      "outputs": [
        {
          "output_type": "execute_result",
          "data": {
            "text/plain": [
              "AME     1259\n",
              "MSFT    1259\n",
              "AEE     1259\n",
              "REGN    1259\n",
              "ACN     1259\n",
              "        ... \n",
              "DXC      215\n",
              "BHGE     152\n",
              "BHF      143\n",
              "DWDP     109\n",
              "APTV      44\n",
              "Name: Name, Length: 505, dtype: int64"
            ]
          },
          "metadata": {
            "tags": []
          },
          "execution_count": 5
        }
      ]
    },
    {
      "cell_type": "markdown",
      "metadata": {
        "id": "RX76uvSnAh1E",
        "colab_type": "text"
      },
      "source": [
        "The column named 'Name' consists of 505 unique companies"
      ]
    },
    {
      "cell_type": "code",
      "metadata": {
        "id": "RWTyhjCGT0DG",
        "colab_type": "code",
        "colab": {
          "base_uri": "https://localhost:8080/",
          "height": 202
        },
        "outputId": "1f735467-c1b9-4161-8629-8c095ed3afd8"
      },
      "source": [
        "data =df[df.Name=='AAP']\n",
        "data.head()"
      ],
      "execution_count": 6,
      "outputs": [
        {
          "output_type": "execute_result",
          "data": {
            "text/html": [
              "<div>\n",
              "<style scoped>\n",
              "    .dataframe tbody tr th:only-of-type {\n",
              "        vertical-align: middle;\n",
              "    }\n",
              "\n",
              "    .dataframe tbody tr th {\n",
              "        vertical-align: top;\n",
              "    }\n",
              "\n",
              "    .dataframe thead th {\n",
              "        text-align: right;\n",
              "    }\n",
              "</style>\n",
              "<table border=\"1\" class=\"dataframe\">\n",
              "  <thead>\n",
              "    <tr style=\"text-align: right;\">\n",
              "      <th></th>\n",
              "      <th>date</th>\n",
              "      <th>open</th>\n",
              "      <th>high</th>\n",
              "      <th>low</th>\n",
              "      <th>close</th>\n",
              "      <th>volume</th>\n",
              "      <th>Name</th>\n",
              "    </tr>\n",
              "  </thead>\n",
              "  <tbody>\n",
              "    <tr>\n",
              "      <th>2518</th>\n",
              "      <td>2013-02-08</td>\n",
              "      <td>78.34</td>\n",
              "      <td>79.72</td>\n",
              "      <td>78.0100</td>\n",
              "      <td>78.90</td>\n",
              "      <td>1298137</td>\n",
              "      <td>AAP</td>\n",
              "    </tr>\n",
              "    <tr>\n",
              "      <th>2519</th>\n",
              "      <td>2013-02-11</td>\n",
              "      <td>78.65</td>\n",
              "      <td>78.91</td>\n",
              "      <td>77.2300</td>\n",
              "      <td>78.39</td>\n",
              "      <td>758016</td>\n",
              "      <td>AAP</td>\n",
              "    </tr>\n",
              "    <tr>\n",
              "      <th>2520</th>\n",
              "      <td>2013-02-12</td>\n",
              "      <td>78.39</td>\n",
              "      <td>78.63</td>\n",
              "      <td>77.5132</td>\n",
              "      <td>78.60</td>\n",
              "      <td>876859</td>\n",
              "      <td>AAP</td>\n",
              "    </tr>\n",
              "    <tr>\n",
              "      <th>2521</th>\n",
              "      <td>2013-02-13</td>\n",
              "      <td>78.90</td>\n",
              "      <td>79.13</td>\n",
              "      <td>77.8500</td>\n",
              "      <td>78.97</td>\n",
              "      <td>1038574</td>\n",
              "      <td>AAP</td>\n",
              "    </tr>\n",
              "    <tr>\n",
              "      <th>2522</th>\n",
              "      <td>2013-02-14</td>\n",
              "      <td>78.66</td>\n",
              "      <td>79.72</td>\n",
              "      <td>78.5850</td>\n",
              "      <td>78.84</td>\n",
              "      <td>1005376</td>\n",
              "      <td>AAP</td>\n",
              "    </tr>\n",
              "  </tbody>\n",
              "</table>\n",
              "</div>"
            ],
            "text/plain": [
              "            date   open   high      low  close   volume Name\n",
              "2518  2013-02-08  78.34  79.72  78.0100  78.90  1298137  AAP\n",
              "2519  2013-02-11  78.65  78.91  77.2300  78.39   758016  AAP\n",
              "2520  2013-02-12  78.39  78.63  77.5132  78.60   876859  AAP\n",
              "2521  2013-02-13  78.90  79.13  77.8500  78.97  1038574  AAP\n",
              "2522  2013-02-14  78.66  79.72  78.5850  78.84  1005376  AAP"
            ]
          },
          "metadata": {
            "tags": []
          },
          "execution_count": 6
        }
      ]
    },
    {
      "cell_type": "markdown",
      "metadata": {
        "id": "e_hBrUKyA3Pl",
        "colab_type": "text"
      },
      "source": [
        "From 505 companies I have selected a particular company called 'AAP(Advance Auto Parts)'"
      ]
    },
    {
      "cell_type": "code",
      "metadata": {
        "id": "sETBDSeJLfIB",
        "colab_type": "code",
        "colab": {
          "base_uri": "https://localhost:8080/",
          "height": 35
        },
        "outputId": "75aae6eb-027a-4c8d-d3b1-86bedb4cd757"
      },
      "source": [
        "data.columns"
      ],
      "execution_count": 7,
      "outputs": [
        {
          "output_type": "execute_result",
          "data": {
            "text/plain": [
              "Index(['date', 'open', 'high', 'low', 'close', 'volume', 'Name'], dtype='object')"
            ]
          },
          "metadata": {
            "tags": []
          },
          "execution_count": 7
        }
      ]
    },
    {
      "cell_type": "markdown",
      "metadata": {
        "id": "J1Ncsc8SNkrO",
        "colab_type": "text"
      },
      "source": [
        "These are my columns in the dataset"
      ]
    },
    {
      "cell_type": "code",
      "metadata": {
        "id": "XNQrdG1GZO88",
        "colab_type": "code",
        "colab": {
          "base_uri": "https://localhost:8080/",
          "height": 415
        },
        "outputId": "6e9c4568-3b88-49da-bf31-a194e7fac1c9"
      },
      "source": [
        "data = data[['date','open']]\n",
        "data"
      ],
      "execution_count": 8,
      "outputs": [
        {
          "output_type": "execute_result",
          "data": {
            "text/html": [
              "<div>\n",
              "<style scoped>\n",
              "    .dataframe tbody tr th:only-of-type {\n",
              "        vertical-align: middle;\n",
              "    }\n",
              "\n",
              "    .dataframe tbody tr th {\n",
              "        vertical-align: top;\n",
              "    }\n",
              "\n",
              "    .dataframe thead th {\n",
              "        text-align: right;\n",
              "    }\n",
              "</style>\n",
              "<table border=\"1\" class=\"dataframe\">\n",
              "  <thead>\n",
              "    <tr style=\"text-align: right;\">\n",
              "      <th></th>\n",
              "      <th>date</th>\n",
              "      <th>open</th>\n",
              "    </tr>\n",
              "  </thead>\n",
              "  <tbody>\n",
              "    <tr>\n",
              "      <th>2518</th>\n",
              "      <td>2013-02-08</td>\n",
              "      <td>78.34</td>\n",
              "    </tr>\n",
              "    <tr>\n",
              "      <th>2519</th>\n",
              "      <td>2013-02-11</td>\n",
              "      <td>78.65</td>\n",
              "    </tr>\n",
              "    <tr>\n",
              "      <th>2520</th>\n",
              "      <td>2013-02-12</td>\n",
              "      <td>78.39</td>\n",
              "    </tr>\n",
              "    <tr>\n",
              "      <th>2521</th>\n",
              "      <td>2013-02-13</td>\n",
              "      <td>78.90</td>\n",
              "    </tr>\n",
              "    <tr>\n",
              "      <th>2522</th>\n",
              "      <td>2013-02-14</td>\n",
              "      <td>78.66</td>\n",
              "    </tr>\n",
              "    <tr>\n",
              "      <th>...</th>\n",
              "      <td>...</td>\n",
              "      <td>...</td>\n",
              "    </tr>\n",
              "    <tr>\n",
              "      <th>3772</th>\n",
              "      <td>2018-02-01</td>\n",
              "      <td>116.24</td>\n",
              "    </tr>\n",
              "    <tr>\n",
              "      <th>3773</th>\n",
              "      <td>2018-02-02</td>\n",
              "      <td>115.92</td>\n",
              "    </tr>\n",
              "    <tr>\n",
              "      <th>3774</th>\n",
              "      <td>2018-02-05</td>\n",
              "      <td>113.05</td>\n",
              "    </tr>\n",
              "    <tr>\n",
              "      <th>3775</th>\n",
              "      <td>2018-02-06</td>\n",
              "      <td>108.28</td>\n",
              "    </tr>\n",
              "    <tr>\n",
              "      <th>3776</th>\n",
              "      <td>2018-02-07</td>\n",
              "      <td>112.09</td>\n",
              "    </tr>\n",
              "  </tbody>\n",
              "</table>\n",
              "<p>1259 rows × 2 columns</p>\n",
              "</div>"
            ],
            "text/plain": [
              "            date    open\n",
              "2518  2013-02-08   78.34\n",
              "2519  2013-02-11   78.65\n",
              "2520  2013-02-12   78.39\n",
              "2521  2013-02-13   78.90\n",
              "2522  2013-02-14   78.66\n",
              "...          ...     ...\n",
              "3772  2018-02-01  116.24\n",
              "3773  2018-02-02  115.92\n",
              "3774  2018-02-05  113.05\n",
              "3775  2018-02-06  108.28\n",
              "3776  2018-02-07  112.09\n",
              "\n",
              "[1259 rows x 2 columns]"
            ]
          },
          "metadata": {
            "tags": []
          },
          "execution_count": 8
        }
      ]
    },
    {
      "cell_type": "markdown",
      "metadata": {
        "id": "5lbf88FRA_Sj",
        "colab_type": "text"
      },
      "source": [
        "I have selected two columns 'date' and 'open' to predict the future values of open column"
      ]
    },
    {
      "cell_type": "code",
      "metadata": {
        "id": "X_Xwg3x_QPhZ",
        "colab_type": "code",
        "colab": {
          "base_uri": "https://localhost:8080/",
          "height": 69
        },
        "outputId": "bbfa8e52-5407-464f-ef66-e257748fd803"
      },
      "source": [
        "data.isnull().sum()"
      ],
      "execution_count": 9,
      "outputs": [
        {
          "output_type": "execute_result",
          "data": {
            "text/plain": [
              "date    0\n",
              "open    0\n",
              "dtype: int64"
            ]
          },
          "metadata": {
            "tags": []
          },
          "execution_count": 9
        }
      ]
    },
    {
      "cell_type": "markdown",
      "metadata": {
        "id": "ClJPF7K4Nt4p",
        "colab_type": "text"
      },
      "source": [
        "There are no null values in the dataset"
      ]
    },
    {
      "cell_type": "code",
      "metadata": {
        "id": "Vok8RFXyT0DT",
        "colab_type": "code",
        "colab": {
          "base_uri": "https://localhost:8080/",
          "height": 173
        },
        "outputId": "85806e55-6ab7-45bd-c486-529a3f269d82"
      },
      "source": [
        "data.info()"
      ],
      "execution_count": 10,
      "outputs": [
        {
          "output_type": "stream",
          "text": [
            "<class 'pandas.core.frame.DataFrame'>\n",
            "Int64Index: 1259 entries, 2518 to 3776\n",
            "Data columns (total 2 columns):\n",
            " #   Column  Non-Null Count  Dtype  \n",
            "---  ------  --------------  -----  \n",
            " 0   date    1259 non-null   object \n",
            " 1   open    1259 non-null   float64\n",
            "dtypes: float64(1), object(1)\n",
            "memory usage: 29.5+ KB\n"
          ],
          "name": "stdout"
        }
      ]
    },
    {
      "cell_type": "markdown",
      "metadata": {
        "id": "AA4FfAjcBX6t",
        "colab_type": "text"
      },
      "source": [
        "- There are no null values in the dataset \n",
        "- And the datatypes of date and open column are object and float"
      ]
    },
    {
      "cell_type": "code",
      "metadata": {
        "id": "nkW49N39ZbyX",
        "colab_type": "code",
        "colab": {
          "base_uri": "https://localhost:8080/",
          "height": 295
        },
        "outputId": "07f8d910-afc6-4a6f-aa02-0fb760ab5200"
      },
      "source": [
        "#line plot\n",
        "plt.plot(data['date'],data['open'])\n",
        "plt.title('AAP open price')\n",
        "plt.xlabel('date')\n",
        "plt.ylabel('open')\n",
        "plt.show()"
      ],
      "execution_count": 11,
      "outputs": [
        {
          "output_type": "display_data",
          "data": {
            "image/png": "[encoded data removed]",
            "text/plain": [
              "<Figure size 432x288 with 1 Axes>"
            ]
          },
          "metadata": {
            "tags": [],
            "needs_background": "light"
          }
        }
      ]
    },
    {
      "cell_type": "markdown",
      "metadata": {
        "id": "f1P5glD8EWLr",
        "colab_type": "text"
      },
      "source": [
        "We can see uptrends and downtrends in the open price"
      ]
    },
    {
      "cell_type": "markdown",
      "metadata": {
        "id": "QpzEXSIO8nLC",
        "colab_type": "text"
      },
      "source": [
        "# Create input and output\n"
      ]
    },
    {
      "cell_type": "code",
      "metadata": {
        "id": "eAn4eQec8z3U",
        "colab_type": "code",
        "colab": {
          "base_uri": "https://localhost:8080/",
          "height": 208
        },
        "outputId": "651d7ae3-ce6e-4e19-8542-3666550b5059"
      },
      "source": [
        "data.date[:10]"
      ],
      "execution_count": 12,
      "outputs": [
        {
          "output_type": "execute_result",
          "data": {
            "text/plain": [
              "2518    2013-02-08\n",
              "2519    2013-02-11\n",
              "2520    2013-02-12\n",
              "2521    2013-02-13\n",
              "2522    2013-02-14\n",
              "2523    2013-02-15\n",
              "2524    2013-02-19\n",
              "2525    2013-02-20\n",
              "2526    2013-02-21\n",
              "2527    2013-02-22\n",
              "Name: date, dtype: object"
            ]
          },
          "metadata": {
            "tags": []
          },
          "execution_count": 12
        }
      ]
    },
    {
      "cell_type": "code",
      "metadata": {
        "id": "YfKBsFVTT0DY",
        "colab_type": "code",
        "colab": {
          "base_uri": "https://localhost:8080/",
          "height": 295
        },
        "outputId": "5a4ea109-7b60-4fd3-dc44-fbec56c8bfd9"
      },
      "source": [
        "## preparing the data\n",
        "X = [] \n",
        "y = []\n",
        "for i in range(data.shape[0]-5-1):\n",
        "    X.append(data['open'][i:i+5])\n",
        "    y.append(data['open'][i+2523])\n",
        "print(X[:3])"
      ],
      "execution_count": 13,
      "outputs": [
        {
          "output_type": "stream",
          "text": [
            "[2518    78.34\n",
            "2519    78.65\n",
            "2520    78.39\n",
            "2521    78.90\n",
            "2522    78.66\n",
            "Name: open, dtype: float64, 2519    78.65\n",
            "2520    78.39\n",
            "2521    78.90\n",
            "2522    78.66\n",
            "2523    78.83\n",
            "Name: open, dtype: float64, 2520    78.39\n",
            "2521    78.90\n",
            "2522    78.66\n",
            "2523    78.83\n",
            "2524    79.12\n",
            "Name: open, dtype: float64]\n"
          ],
          "name": "stdout"
        }
      ]
    },
    {
      "cell_type": "markdown",
      "metadata": {
        "id": "8Y2-DasIEiYc",
        "colab_type": "text"
      },
      "source": [
        "I am trying to predict the 6th day open value based on the previous 5 \n",
        "days values"
      ]
    },
    {
      "cell_type": "markdown",
      "metadata": {
        "id": "CUcY8corjCyU",
        "colab_type": "text"
      },
      "source": [
        "converting into numpy array"
      ]
    },
    {
      "cell_type": "code",
      "metadata": {
        "id": "gB2J5X3bT0Dd",
        "colab_type": "code",
        "colab": {}
      },
      "source": [
        "X = np.array(X)"
      ],
      "execution_count": 14,
      "outputs": []
    },
    {
      "cell_type": "markdown",
      "metadata": {
        "id": "BQiUOSUEjIF7",
        "colab_type": "text"
      },
      "source": [
        "creating a dataframe"
      ]
    },
    {
      "cell_type": "code",
      "metadata": {
        "id": "ydSA2tOoT0Dh",
        "colab_type": "code",
        "colab": {
          "base_uri": "https://localhost:8080/",
          "height": 202
        },
        "outputId": "250247ed-63a6-40e9-c409-0ea97809044b"
      },
      "source": [
        "df1 =pd.DataFrame(X,columns=['d1','d2','d3','d4','d5'])\n",
        "df1.head()"
      ],
      "execution_count": 15,
      "outputs": [
        {
          "output_type": "execute_result",
          "data": {
            "text/html": [
              "<div>\n",
              "<style scoped>\n",
              "    .dataframe tbody tr th:only-of-type {\n",
              "        vertical-align: middle;\n",
              "    }\n",
              "\n",
              "    .dataframe tbody tr th {\n",
              "        vertical-align: top;\n",
              "    }\n",
              "\n",
              "    .dataframe thead th {\n",
              "        text-align: right;\n",
              "    }\n",
              "</style>\n",
              "<table border=\"1\" class=\"dataframe\">\n",
              "  <thead>\n",
              "    <tr style=\"text-align: right;\">\n",
              "      <th></th>\n",
              "      <th>d1</th>\n",
              "      <th>d2</th>\n",
              "      <th>d3</th>\n",
              "      <th>d4</th>\n",
              "      <th>d5</th>\n",
              "    </tr>\n",
              "  </thead>\n",
              "  <tbody>\n",
              "    <tr>\n",
              "      <th>0</th>\n",
              "      <td>78.34</td>\n",
              "      <td>78.65</td>\n",
              "      <td>78.39</td>\n",
              "      <td>78.90</td>\n",
              "      <td>78.66</td>\n",
              "    </tr>\n",
              "    <tr>\n",
              "      <th>1</th>\n",
              "      <td>78.65</td>\n",
              "      <td>78.39</td>\n",
              "      <td>78.90</td>\n",
              "      <td>78.66</td>\n",
              "      <td>78.83</td>\n",
              "    </tr>\n",
              "    <tr>\n",
              "      <th>2</th>\n",
              "      <td>78.39</td>\n",
              "      <td>78.90</td>\n",
              "      <td>78.66</td>\n",
              "      <td>78.83</td>\n",
              "      <td>79.12</td>\n",
              "    </tr>\n",
              "    <tr>\n",
              "      <th>3</th>\n",
              "      <td>78.90</td>\n",
              "      <td>78.66</td>\n",
              "      <td>78.83</td>\n",
              "      <td>79.12</td>\n",
              "      <td>80.42</td>\n",
              "    </tr>\n",
              "    <tr>\n",
              "      <th>4</th>\n",
              "      <td>78.66</td>\n",
              "      <td>78.83</td>\n",
              "      <td>79.12</td>\n",
              "      <td>80.42</td>\n",
              "      <td>79.26</td>\n",
              "    </tr>\n",
              "  </tbody>\n",
              "</table>\n",
              "</div>"
            ],
            "text/plain": [
              "      d1     d2     d3     d4     d5\n",
              "0  78.34  78.65  78.39  78.90  78.66\n",
              "1  78.65  78.39  78.90  78.66  78.83\n",
              "2  78.39  78.90  78.66  78.83  79.12\n",
              "3  78.90  78.66  78.83  79.12  80.42\n",
              "4  78.66  78.83  79.12  80.42  79.26"
            ]
          },
          "metadata": {
            "tags": []
          },
          "execution_count": 15
        }
      ]
    },
    {
      "cell_type": "markdown",
      "metadata": {
        "id": "97twOhB-jSOL",
        "colab_type": "text"
      },
      "source": [
        "predicting the  next column based on the previous columns"
      ]
    },
    {
      "cell_type": "code",
      "metadata": {
        "id": "8OZ9dizST0Dl",
        "colab_type": "code",
        "colab": {
          "base_uri": "https://localhost:8080/",
          "height": 202
        },
        "outputId": "1b54e8ec-8bfc-4499-b6e2-9b293bf828ed"
      },
      "source": [
        "df1['d6']=y\n",
        "df1.head()"
      ],
      "execution_count": 16,
      "outputs": [
        {
          "output_type": "execute_result",
          "data": {
            "text/html": [
              "<div>\n",
              "<style scoped>\n",
              "    .dataframe tbody tr th:only-of-type {\n",
              "        vertical-align: middle;\n",
              "    }\n",
              "\n",
              "    .dataframe tbody tr th {\n",
              "        vertical-align: top;\n",
              "    }\n",
              "\n",
              "    .dataframe thead th {\n",
              "        text-align: right;\n",
              "    }\n",
              "</style>\n",
              "<table border=\"1\" class=\"dataframe\">\n",
              "  <thead>\n",
              "    <tr style=\"text-align: right;\">\n",
              "      <th></th>\n",
              "      <th>d1</th>\n",
              "      <th>d2</th>\n",
              "      <th>d3</th>\n",
              "      <th>d4</th>\n",
              "      <th>d5</th>\n",
              "      <th>d6</th>\n",
              "    </tr>\n",
              "  </thead>\n",
              "  <tbody>\n",
              "    <tr>\n",
              "      <th>0</th>\n",
              "      <td>78.34</td>\n",
              "      <td>78.65</td>\n",
              "      <td>78.39</td>\n",
              "      <td>78.90</td>\n",
              "      <td>78.66</td>\n",
              "      <td>78.83</td>\n",
              "    </tr>\n",
              "    <tr>\n",
              "      <th>1</th>\n",
              "      <td>78.65</td>\n",
              "      <td>78.39</td>\n",
              "      <td>78.90</td>\n",
              "      <td>78.66</td>\n",
              "      <td>78.83</td>\n",
              "      <td>79.12</td>\n",
              "    </tr>\n",
              "    <tr>\n",
              "      <th>2</th>\n",
              "      <td>78.39</td>\n",
              "      <td>78.90</td>\n",
              "      <td>78.66</td>\n",
              "      <td>78.83</td>\n",
              "      <td>79.12</td>\n",
              "      <td>80.42</td>\n",
              "    </tr>\n",
              "    <tr>\n",
              "      <th>3</th>\n",
              "      <td>78.90</td>\n",
              "      <td>78.66</td>\n",
              "      <td>78.83</td>\n",
              "      <td>79.12</td>\n",
              "      <td>80.42</td>\n",
              "      <td>79.26</td>\n",
              "    </tr>\n",
              "    <tr>\n",
              "      <th>4</th>\n",
              "      <td>78.66</td>\n",
              "      <td>78.83</td>\n",
              "      <td>79.12</td>\n",
              "      <td>80.42</td>\n",
              "      <td>79.26</td>\n",
              "      <td>79.20</td>\n",
              "    </tr>\n",
              "  </tbody>\n",
              "</table>\n",
              "</div>"
            ],
            "text/plain": [
              "      d1     d2     d3     d4     d5     d6\n",
              "0  78.34  78.65  78.39  78.90  78.66  78.83\n",
              "1  78.65  78.39  78.90  78.66  78.83  79.12\n",
              "2  78.39  78.90  78.66  78.83  79.12  80.42\n",
              "3  78.90  78.66  78.83  79.12  80.42  79.26\n",
              "4  78.66  78.83  79.12  80.42  79.26  79.20"
            ]
          },
          "metadata": {
            "tags": []
          },
          "execution_count": 16
        }
      ]
    },
    {
      "cell_type": "code",
      "metadata": {
        "id": "uXj2ua8uT0Dp",
        "colab_type": "code",
        "colab": {
          "base_uri": "https://localhost:8080/",
          "height": 35
        },
        "outputId": "ccd8e4e3-a6ec-4494-d263-a58acc0dccbc"
      },
      "source": [
        "df1.shape"
      ],
      "execution_count": 17,
      "outputs": [
        {
          "output_type": "execute_result",
          "data": {
            "text/plain": [
              "(1253, 6)"
            ]
          },
          "metadata": {
            "tags": []
          },
          "execution_count": 17
        }
      ]
    },
    {
      "cell_type": "code",
      "metadata": {
        "id": "HPLVS60FaWsb",
        "colab_type": "code",
        "colab": {
          "base_uri": "https://localhost:8080/",
          "height": 35
        },
        "outputId": "ed0b9673-8056-4e02-c056-8b1ef49aa0db"
      },
      "source": [
        "1253 * 0.8"
      ],
      "execution_count": 18,
      "outputs": [
        {
          "output_type": "execute_result",
          "data": {
            "text/plain": [
              "1002.4000000000001"
            ]
          },
          "metadata": {
            "tags": []
          },
          "execution_count": 18
        }
      ]
    },
    {
      "cell_type": "markdown",
      "metadata": {
        "id": "T808Y6A7jfhS",
        "colab_type": "text"
      },
      "source": [
        "# train test split"
      ]
    },
    {
      "cell_type": "code",
      "metadata": {
        "id": "NkpTC6qcT0Dr",
        "colab_type": "code",
        "colab": {
          "base_uri": "https://localhost:8080/",
          "height": 87
        },
        "outputId": "9ec9b46a-fa73-4a73-dcb7-0fa67ca00bc0"
      },
      "source": [
        "## train_test_split\n",
        "X_train=df1.iloc[:1002,:5]\n",
        "X_test=df1.iloc[1002:,:5]\n",
        "y_train=df1['d6'][:1002]\n",
        "y_test=df1['d6'][1002:]\n",
        "print(X_train.shape)\n",
        "print(X_test.shape)\n",
        "print(y_train.shape)\n",
        "print(y_test.shape)"
      ],
      "execution_count": 19,
      "outputs": [
        {
          "output_type": "stream",
          "text": [
            "(1002, 5)\n",
            "(251, 5)\n",
            "(1002,)\n",
            "(251,)\n"
          ],
          "name": "stdout"
        }
      ]
    },
    {
      "cell_type": "markdown",
      "metadata": {
        "id": "3QX_T_VCOGwr",
        "colab_type": "text"
      },
      "source": [
        "I have used 80% of the data for training and remaining 20% of the data for testing."
      ]
    },
    {
      "cell_type": "markdown",
      "metadata": {
        "id": "QyD3UXObjkVg",
        "colab_type": "text"
      },
      "source": [
        "# scaling"
      ]
    },
    {
      "cell_type": "code",
      "metadata": {
        "id": "gjjRIPs8OQ2a",
        "colab_type": "code",
        "colab": {}
      },
      "source": [
        " I am using StandardScaler for scaling the data."
      ],
      "execution_count": null,
      "outputs": []
    },
    {
      "cell_type": "code",
      "metadata": {
        "id": "YIHZW9xdT0Dt",
        "colab_type": "code",
        "colab": {
          "base_uri": "https://localhost:8080/",
          "height": 294
        },
        "outputId": "1b20e1be-f125-425b-b1da-e73d0f326d1b"
      },
      "source": [
        "#scaling the data\n",
        "from sklearn.preprocessing import StandardScaler\n",
        "sc=StandardScaler()\n",
        "sc.fit(X_train)\n",
        "X_train_sc=pd.DataFrame(sc.transform(X_train),columns=X_train.columns)\n",
        "X_test_sc=pd.DataFrame(sc.transform(X_test),columns=X_train.columns)\n",
        "X_train_sc.describe()"
      ],
      "execution_count": 20,
      "outputs": [
        {
          "output_type": "execute_result",
          "data": {
            "text/html": [
              "<div>\n",
              "<style scoped>\n",
              "    .dataframe tbody tr th:only-of-type {\n",
              "        vertical-align: middle;\n",
              "    }\n",
              "\n",
              "    .dataframe tbody tr th {\n",
              "        vertical-align: top;\n",
              "    }\n",
              "\n",
              "    .dataframe thead th {\n",
              "        text-align: right;\n",
              "    }\n",
              "</style>\n",
              "<table border=\"1\" class=\"dataframe\">\n",
              "  <thead>\n",
              "    <tr style=\"text-align: right;\">\n",
              "      <th></th>\n",
              "      <th>d1</th>\n",
              "      <th>d2</th>\n",
              "      <th>d3</th>\n",
              "      <th>d4</th>\n",
              "      <th>d5</th>\n",
              "    </tr>\n",
              "  </thead>\n",
              "  <tbody>\n",
              "    <tr>\n",
              "      <th>count</th>\n",
              "      <td>1.002000e+03</td>\n",
              "      <td>1.002000e+03</td>\n",
              "      <td>1.002000e+03</td>\n",
              "      <td>1.002000e+03</td>\n",
              "      <td>1.002000e+03</td>\n",
              "    </tr>\n",
              "    <tr>\n",
              "      <th>mean</th>\n",
              "      <td>-6.331152e-16</td>\n",
              "      <td>7.659652e-16</td>\n",
              "      <td>5.285193e-17</td>\n",
              "      <td>-2.047597e-15</td>\n",
              "      <td>-2.261442e-16</td>\n",
              "    </tr>\n",
              "    <tr>\n",
              "      <th>std</th>\n",
              "      <td>1.000499e+00</td>\n",
              "      <td>1.000499e+00</td>\n",
              "      <td>1.000499e+00</td>\n",
              "      <td>1.000499e+00</td>\n",
              "      <td>1.000499e+00</td>\n",
              "    </tr>\n",
              "    <tr>\n",
              "      <th>min</th>\n",
              "      <td>-1.896850e+00</td>\n",
              "      <td>-1.901980e+00</td>\n",
              "      <td>-1.907164e+00</td>\n",
              "      <td>-1.912368e+00</td>\n",
              "      <td>-1.917553e+00</td>\n",
              "    </tr>\n",
              "    <tr>\n",
              "      <th>25%</th>\n",
              "      <td>-5.752281e-01</td>\n",
              "      <td>-5.699688e-01</td>\n",
              "      <td>-5.652483e-01</td>\n",
              "      <td>-5.590802e-01</td>\n",
              "      <td>-5.359346e-01</td>\n",
              "    </tr>\n",
              "    <tr>\n",
              "      <th>50%</th>\n",
              "      <td>3.000091e-01</td>\n",
              "      <td>3.002195e-01</td>\n",
              "      <td>3.024915e-01</td>\n",
              "      <td>3.024348e-01</td>\n",
              "      <td>3.024373e-01</td>\n",
              "    </tr>\n",
              "    <tr>\n",
              "      <th>75%</th>\n",
              "      <td>7.239645e-01</td>\n",
              "      <td>7.250333e-01</td>\n",
              "      <td>7.303431e-01</td>\n",
              "      <td>7.334698e-01</td>\n",
              "      <td>7.344461e-01</td>\n",
              "    </tr>\n",
              "    <tr>\n",
              "      <th>max</th>\n",
              "      <td>2.058381e+00</td>\n",
              "      <td>2.058310e+00</td>\n",
              "      <td>2.058560e+00</td>\n",
              "      <td>2.058609e+00</td>\n",
              "      <td>2.058739e+00</td>\n",
              "    </tr>\n",
              "  </tbody>\n",
              "</table>\n",
              "</div>"
            ],
            "text/plain": [
              "                 d1            d2            d3            d4            d5\n",
              "count  1.002000e+03  1.002000e+03  1.002000e+03  1.002000e+03  1.002000e+03\n",
              "mean  -6.331152e-16  7.659652e-16  5.285193e-17 -2.047597e-15 -2.261442e-16\n",
              "std    1.000499e+00  1.000499e+00  1.000499e+00  1.000499e+00  1.000499e+00\n",
              "min   -1.896850e+00 -1.901980e+00 -1.907164e+00 -1.912368e+00 -1.917553e+00\n",
              "25%   -5.752281e-01 -5.699688e-01 -5.652483e-01 -5.590802e-01 -5.359346e-01\n",
              "50%    3.000091e-01  3.002195e-01  3.024915e-01  3.024348e-01  3.024373e-01\n",
              "75%    7.239645e-01  7.250333e-01  7.303431e-01  7.334698e-01  7.344461e-01\n",
              "max    2.058381e+00  2.058310e+00  2.058560e+00  2.058609e+00  2.058739e+00"
            ]
          },
          "metadata": {
            "tags": []
          },
          "execution_count": 20
        }
      ]
    },
    {
      "cell_type": "markdown",
      "metadata": {
        "id": "YRE7MqxfmoUB",
        "colab_type": "text"
      },
      "source": [
        "Reshape the inputs"
      ]
    },
    {
      "cell_type": "code",
      "metadata": {
        "id": "JVB8eQmhT0D1",
        "colab_type": "code",
        "colab": {}
      },
      "source": [
        "X_train_sc = X_train_sc.values.reshape(1002,5,1)#Number of records,time steps,features\n",
        "X_test_sc = X_test_sc.values.reshape(251,5,1)"
      ],
      "execution_count": 21,
      "outputs": []
    },
    {
      "cell_type": "markdown",
      "metadata": {
        "id": "3cHpUrUdhrCf",
        "colab_type": "text"
      },
      "source": [
        "# Building LSTM model"
      ]
    },
    {
      "cell_type": "markdown",
      "metadata": {
        "id": "aObqoKY4TBz-",
        "colab_type": "text"
      },
      "source": [
        "- first initialize the model\n",
        "- then,add the 1st LSTM layer \n",
        "- finnaly,add the output layer,the output dimension is 1 since we are predicting 1 price each time. "
      ]
    },
    {
      "cell_type": "code",
      "metadata": {
        "id": "iG1rEsCCT0Dx",
        "colab_type": "code",
        "colab": {
          "base_uri": "https://localhost:8080/",
          "height": 243
        },
        "outputId": "361cdc1b-c8cf-4ba5-b8ff-28246fc2623c"
      },
      "source": [
        "from keras.models import Sequential\n",
        "from keras.layers import Dense,Dropout,LSTM\n",
        "model=Sequential()\n",
        "model.add(LSTM(256,input_shape=(5,1)))\n",
        "model.add(Dense(1))\n",
        "model.summary()"
      ],
      "execution_count": 22,
      "outputs": [
        {
          "output_type": "stream",
          "text": [
            "Using TensorFlow backend.\n"
          ],
          "name": "stderr"
        },
        {
          "output_type": "stream",
          "text": [
            "Model: \"sequential_1\"\n",
            "_________________________________________________________________\n",
            "Layer (type)                 Output Shape              Param #   \n",
            "=================================================================\n",
            "lstm_1 (LSTM)                (None, 256)               264192    \n",
            "_________________________________________________________________\n",
            "dense_1 (Dense)              (None, 1)                 257       \n",
            "=================================================================\n",
            "Total params: 264,449\n",
            "Trainable params: 264,449\n",
            "Non-trainable params: 0\n",
            "_________________________________________________________________\n"
          ],
          "name": "stdout"
        }
      ]
    },
    {
      "cell_type": "markdown",
      "metadata": {
        "id": "srUZenynUJuB",
        "colab_type": "text"
      },
      "source": [
        "# MODEL COMPILING"
      ]
    },
    {
      "cell_type": "code",
      "metadata": {
        "id": "8RjF18ilT0Dz",
        "colab_type": "code",
        "colab": {}
      },
      "source": [
        "model.compile(optimizer='adam',loss='mse')"
      ],
      "execution_count": 23,
      "outputs": []
    },
    {
      "cell_type": "markdown",
      "metadata": {
        "id": "os0wK11jo8pw",
        "colab_type": "text"
      },
      "source": [
        "# MODEL FITTING"
      ]
    },
    {
      "cell_type": "code",
      "metadata": {
        "scrolled": false,
        "id": "OfSmp9uvT0D2",
        "colab_type": "code",
        "colab": {
          "base_uri": "https://localhost:8080/",
          "height": 1000
        },
        "outputId": "e0241b9d-588b-4471-8058-60f4514cf1fe"
      },
      "source": [
        "history = model.fit(X_train_sc,y_train,epochs=150,validation_data=(X_test_sc,y_test))"
      ],
      "execution_count": 24,
      "outputs": [
        {
          "output_type": "stream",
          "text": [
            "Train on 1002 samples, validate on 251 samples\n",
            "Epoch 1/150\n",
            "1002/1002 [==============================] - 1s 1ms/step - loss: 18584.2772 - val_loss: 12377.3745\n",
            "Epoch 2/150\n",
            "1002/1002 [==============================] - 1s 771us/step - loss: 12985.9910 - val_loss: 7206.8485\n",
            "Epoch 3/150\n",
            "1002/1002 [==============================] - 1s 793us/step - loss: 10119.7174 - val_loss: 5698.2958\n",
            "Epoch 4/150\n",
            "1002/1002 [==============================] - 1s 813us/step - loss: 8441.3516 - val_loss: 4541.0503\n",
            "Epoch 5/150\n",
            "1002/1002 [==============================] - 1s 766us/step - loss: 7094.4671 - val_loss: 3622.5724\n",
            "Epoch 6/150\n",
            "1002/1002 [==============================] - 1s 828us/step - loss: 5980.4126 - val_loss: 2890.9599\n",
            "Epoch 7/150\n",
            "1002/1002 [==============================] - 1s 859us/step - loss: 5055.0852 - val_loss: 2298.3534\n",
            "Epoch 8/150\n",
            "1002/1002 [==============================] - 1s 830us/step - loss: 4273.6475 - val_loss: 1828.7588\n",
            "Epoch 9/150\n",
            "1002/1002 [==============================] - 1s 818us/step - loss: 3625.6535 - val_loss: 1458.4686\n",
            "Epoch 10/150\n",
            "1002/1002 [==============================] - 1s 779us/step - loss: 3089.3217 - val_loss: 1176.7361\n",
            "Epoch 11/150\n",
            "1002/1002 [==============================] - 1s 791us/step - loss: 2646.4605 - val_loss: 967.2282\n",
            "Epoch 12/150\n",
            "1002/1002 [==============================] - 1s 802us/step - loss: 2287.4766 - val_loss: 814.1117\n",
            "Epoch 13/150\n",
            "1002/1002 [==============================] - 1s 806us/step - loss: 1994.9541 - val_loss: 710.8996\n",
            "Epoch 14/150\n",
            "1002/1002 [==============================] - 1s 817us/step - loss: 1760.2060 - val_loss: 643.8220\n",
            "Epoch 15/150\n",
            "1002/1002 [==============================] - 1s 747us/step - loss: 1572.8141 - val_loss: 605.7096\n",
            "Epoch 16/150\n",
            "1002/1002 [==============================] - 1s 772us/step - loss: 1420.8064 - val_loss: 587.3521\n",
            "Epoch 17/150\n",
            "1002/1002 [==============================] - 1s 774us/step - loss: 1286.9824 - val_loss: 497.0066\n",
            "Epoch 18/150\n",
            "1002/1002 [==============================] - 1s 756us/step - loss: 1056.7790 - val_loss: 301.6329\n",
            "Epoch 19/150\n",
            "1002/1002 [==============================] - 1s 751us/step - loss: 823.7408 - val_loss: 224.2202\n",
            "Epoch 20/150\n",
            "1002/1002 [==============================] - 1s 779us/step - loss: 689.3863 - val_loss: 183.1129\n",
            "Epoch 21/150\n",
            "1002/1002 [==============================] - 1s 807us/step - loss: 586.4532 - val_loss: 145.2867\n",
            "Epoch 22/150\n",
            "1002/1002 [==============================] - 1s 825us/step - loss: 500.7156 - val_loss: 117.8458\n",
            "Epoch 23/150\n",
            "1002/1002 [==============================] - 1s 773us/step - loss: 424.2631 - val_loss: 94.4208\n",
            "Epoch 24/150\n",
            "1002/1002 [==============================] - 1s 781us/step - loss: 358.4479 - val_loss: 79.5778\n",
            "Epoch 25/150\n",
            "1002/1002 [==============================] - 1s 800us/step - loss: 306.2860 - val_loss: 66.2390\n",
            "Epoch 26/150\n",
            "1002/1002 [==============================] - 1s 791us/step - loss: 263.9748 - val_loss: 57.1956\n",
            "Epoch 27/150\n",
            "1002/1002 [==============================] - 1s 789us/step - loss: 229.3964 - val_loss: 55.3465\n",
            "Epoch 28/150\n",
            "1002/1002 [==============================] - 1s 769us/step - loss: 201.2293 - val_loss: 46.9057\n",
            "Epoch 29/150\n",
            "1002/1002 [==============================] - 1s 795us/step - loss: 178.9571 - val_loss: 44.4710\n",
            "Epoch 30/150\n",
            "1002/1002 [==============================] - 1s 745us/step - loss: 160.6299 - val_loss: 43.0437\n",
            "Epoch 31/150\n",
            "1002/1002 [==============================] - 1s 768us/step - loss: 145.3759 - val_loss: 47.1674\n",
            "Epoch 32/150\n",
            "1002/1002 [==============================] - 1s 757us/step - loss: 130.7948 - val_loss: 44.4036\n",
            "Epoch 33/150\n",
            "1002/1002 [==============================] - 1s 769us/step - loss: 119.2874 - val_loss: 39.0850\n",
            "Epoch 34/150\n",
            "1002/1002 [==============================] - 1s 793us/step - loss: 109.3898 - val_loss: 39.7508\n",
            "Epoch 35/150\n",
            "1002/1002 [==============================] - 1s 799us/step - loss: 101.1165 - val_loss: 37.2942\n",
            "Epoch 36/150\n",
            "1002/1002 [==============================] - 1s 785us/step - loss: 93.9639 - val_loss: 38.0916\n",
            "Epoch 37/150\n",
            "1002/1002 [==============================] - 1s 781us/step - loss: 87.3717 - val_loss: 33.5589\n",
            "Epoch 38/150\n",
            "1002/1002 [==============================] - 1s 782us/step - loss: 82.3665 - val_loss: 34.6737\n",
            "Epoch 39/150\n",
            "1002/1002 [==============================] - 1s 788us/step - loss: 76.6299 - val_loss: 33.9109\n",
            "Epoch 40/150\n",
            "1002/1002 [==============================] - 1s 810us/step - loss: 71.8626 - val_loss: 37.5773\n",
            "Epoch 41/150\n",
            "1002/1002 [==============================] - 1s 813us/step - loss: 67.8862 - val_loss: 35.5390\n",
            "Epoch 42/150\n",
            "1002/1002 [==============================] - 1s 774us/step - loss: 64.4052 - val_loss: 31.9775\n",
            "Epoch 43/150\n",
            "1002/1002 [==============================] - 1s 775us/step - loss: 60.3584 - val_loss: 31.5749\n",
            "Epoch 44/150\n",
            "1002/1002 [==============================] - 1s 775us/step - loss: 57.5081 - val_loss: 34.2553\n",
            "Epoch 45/150\n",
            "1002/1002 [==============================] - 1s 761us/step - loss: 55.2225 - val_loss: 33.2722\n",
            "Epoch 46/150\n",
            "1002/1002 [==============================] - 1s 782us/step - loss: 52.5225 - val_loss: 38.3388\n",
            "Epoch 47/150\n",
            "1002/1002 [==============================] - 1s 771us/step - loss: 50.5241 - val_loss: 36.3311\n",
            "Epoch 48/150\n",
            "1002/1002 [==============================] - 1s 764us/step - loss: 48.6561 - val_loss: 38.0330\n",
            "Epoch 49/150\n",
            "1002/1002 [==============================] - 1s 788us/step - loss: 46.4626 - val_loss: 38.5538\n",
            "Epoch 50/150\n",
            "1002/1002 [==============================] - 1s 773us/step - loss: 43.7638 - val_loss: 32.3703\n",
            "Epoch 51/150\n",
            "1002/1002 [==============================] - 1s 771us/step - loss: 42.5365 - val_loss: 35.7573\n",
            "Epoch 52/150\n",
            "1002/1002 [==============================] - 1s 784us/step - loss: 40.4607 - val_loss: 38.3055\n",
            "Epoch 53/150\n",
            "1002/1002 [==============================] - 1s 756us/step - loss: 40.2049 - val_loss: 34.2922\n",
            "Epoch 54/150\n",
            "1002/1002 [==============================] - 1s 780us/step - loss: 38.3469 - val_loss: 30.4991\n",
            "Epoch 55/150\n",
            "1002/1002 [==============================] - 1s 798us/step - loss: 36.8291 - val_loss: 38.5406\n",
            "Epoch 56/150\n",
            "1002/1002 [==============================] - 1s 785us/step - loss: 36.3633 - val_loss: 36.0133\n",
            "Epoch 57/150\n",
            "1002/1002 [==============================] - 1s 758us/step - loss: 34.7902 - val_loss: 32.2197\n",
            "Epoch 58/150\n",
            "1002/1002 [==============================] - 1s 787us/step - loss: 34.5823 - val_loss: 32.1736\n",
            "Epoch 59/150\n",
            "1002/1002 [==============================] - 1s 762us/step - loss: 33.1173 - val_loss: 34.2535\n",
            "Epoch 60/150\n",
            "1002/1002 [==============================] - 1s 762us/step - loss: 31.7850 - val_loss: 29.5926\n",
            "Epoch 61/150\n",
            "1002/1002 [==============================] - 1s 764us/step - loss: 31.9389 - val_loss: 32.2881\n",
            "Epoch 62/150\n",
            "1002/1002 [==============================] - 1s 766us/step - loss: 30.9582 - val_loss: 34.5777\n",
            "Epoch 63/150\n",
            "1002/1002 [==============================] - 1s 791us/step - loss: 31.0930 - val_loss: 42.4607\n",
            "Epoch 64/150\n",
            "1002/1002 [==============================] - 1s 812us/step - loss: 30.5596 - val_loss: 30.5164\n",
            "Epoch 65/150\n",
            "1002/1002 [==============================] - 1s 776us/step - loss: 29.2892 - val_loss: 30.9759\n",
            "Epoch 66/150\n",
            "1002/1002 [==============================] - 1s 770us/step - loss: 28.6503 - val_loss: 33.6176\n",
            "Epoch 67/150\n",
            "1002/1002 [==============================] - 1s 800us/step - loss: 28.3878 - val_loss: 33.2642\n",
            "Epoch 68/150\n",
            "1002/1002 [==============================] - 1s 851us/step - loss: 27.9264 - val_loss: 29.7115\n",
            "Epoch 69/150\n",
            "1002/1002 [==============================] - 1s 809us/step - loss: 27.0729 - val_loss: 33.5143\n",
            "Epoch 70/150\n",
            "1002/1002 [==============================] - 1s 807us/step - loss: 27.3363 - val_loss: 38.5963\n",
            "Epoch 71/150\n",
            "1002/1002 [==============================] - 1s 766us/step - loss: 26.5728 - val_loss: 31.5381\n",
            "Epoch 72/150\n",
            "1002/1002 [==============================] - 1s 792us/step - loss: 25.8635 - val_loss: 33.4098\n",
            "Epoch 73/150\n",
            "1002/1002 [==============================] - 1s 777us/step - loss: 25.8194 - val_loss: 32.5427\n",
            "Epoch 74/150\n",
            "1002/1002 [==============================] - 1s 786us/step - loss: 25.9172 - val_loss: 36.9351\n",
            "Epoch 75/150\n",
            "1002/1002 [==============================] - 1s 769us/step - loss: 26.4557 - val_loss: 33.4025\n",
            "Epoch 76/150\n",
            "1002/1002 [==============================] - 1s 761us/step - loss: 26.7906 - val_loss: 35.0985\n",
            "Epoch 77/150\n",
            "1002/1002 [==============================] - 1s 783us/step - loss: 25.3739 - val_loss: 37.9251\n",
            "Epoch 78/150\n",
            "1002/1002 [==============================] - 1s 772us/step - loss: 24.9958 - val_loss: 28.5553\n",
            "Epoch 79/150\n",
            "1002/1002 [==============================] - 1s 778us/step - loss: 24.3432 - val_loss: 29.8764\n",
            "Epoch 80/150\n",
            "1002/1002 [==============================] - 1s 760us/step - loss: 23.6422 - val_loss: 29.1408\n",
            "Epoch 81/150\n",
            "1002/1002 [==============================] - 1s 779us/step - loss: 24.0870 - val_loss: 31.7231\n",
            "Epoch 82/150\n",
            "1002/1002 [==============================] - 1s 857us/step - loss: 23.8869 - val_loss: 26.7594\n",
            "Epoch 83/150\n",
            "1002/1002 [==============================] - 1s 778us/step - loss: 24.1383 - val_loss: 39.2536\n",
            "Epoch 84/150\n",
            "1002/1002 [==============================] - 1s 786us/step - loss: 25.2092 - val_loss: 27.6655\n",
            "Epoch 85/150\n",
            "1002/1002 [==============================] - 1s 766us/step - loss: 22.9862 - val_loss: 31.1193\n",
            "Epoch 86/150\n",
            "1002/1002 [==============================] - 1s 805us/step - loss: 23.1744 - val_loss: 27.9035\n",
            "Epoch 87/150\n",
            "1002/1002 [==============================] - 1s 793us/step - loss: 22.5928 - val_loss: 34.8259\n",
            "Epoch 88/150\n",
            "1002/1002 [==============================] - 1s 786us/step - loss: 23.4216 - val_loss: 30.4740\n",
            "Epoch 89/150\n",
            "1002/1002 [==============================] - 1s 780us/step - loss: 22.9779 - val_loss: 31.8764\n",
            "Epoch 90/150\n",
            "1002/1002 [==============================] - 1s 751us/step - loss: 22.1097 - val_loss: 25.7990\n",
            "Epoch 91/150\n",
            "1002/1002 [==============================] - 1s 801us/step - loss: 21.8813 - val_loss: 26.4125\n",
            "Epoch 92/150\n",
            "1002/1002 [==============================] - 1s 796us/step - loss: 21.2835 - val_loss: 25.9055\n",
            "Epoch 93/150\n",
            "1002/1002 [==============================] - 1s 808us/step - loss: 20.9577 - val_loss: 29.8222\n",
            "Epoch 94/150\n",
            "1002/1002 [==============================] - 1s 780us/step - loss: 21.8397 - val_loss: 31.7526\n",
            "Epoch 95/150\n",
            "1002/1002 [==============================] - 1s 800us/step - loss: 21.4431 - val_loss: 31.7720\n",
            "Epoch 96/150\n",
            "1002/1002 [==============================] - 1s 836us/step - loss: 21.1610 - val_loss: 29.6884\n",
            "Epoch 97/150\n",
            "1002/1002 [==============================] - 1s 824us/step - loss: 20.9800 - val_loss: 26.7542\n",
            "Epoch 98/150\n",
            "1002/1002 [==============================] - 1s 770us/step - loss: 21.2600 - val_loss: 29.3385\n",
            "Epoch 99/150\n",
            "1002/1002 [==============================] - 1s 808us/step - loss: 20.6930 - val_loss: 25.3851\n",
            "Epoch 100/150\n",
            "1002/1002 [==============================] - 1s 759us/step - loss: 19.9939 - val_loss: 28.4751\n",
            "Epoch 101/150\n",
            "1002/1002 [==============================] - 1s 812us/step - loss: 20.5164 - val_loss: 24.3253\n",
            "Epoch 102/150\n",
            "1002/1002 [==============================] - 1s 781us/step - loss: 19.7137 - val_loss: 23.1909\n",
            "Epoch 103/150\n",
            "1002/1002 [==============================] - 1s 761us/step - loss: 20.0242 - val_loss: 24.1043\n",
            "Epoch 104/150\n",
            "1002/1002 [==============================] - 1s 761us/step - loss: 21.4526 - val_loss: 31.8139\n",
            "Epoch 105/150\n",
            "1002/1002 [==============================] - 1s 793us/step - loss: 20.2407 - val_loss: 29.8997\n",
            "Epoch 106/150\n",
            "1002/1002 [==============================] - 1s 818us/step - loss: 19.8369 - val_loss: 26.8080\n",
            "Epoch 107/150\n",
            "1002/1002 [==============================] - 1s 775us/step - loss: 20.3654 - val_loss: 24.1043\n",
            "Epoch 108/150\n",
            "1002/1002 [==============================] - 1s 840us/step - loss: 18.4248 - val_loss: 28.2388\n",
            "Epoch 109/150\n",
            "1002/1002 [==============================] - 1s 771us/step - loss: 18.7917 - val_loss: 24.5816\n",
            "Epoch 110/150\n",
            "1002/1002 [==============================] - 1s 794us/step - loss: 19.3271 - val_loss: 24.4823\n",
            "Epoch 111/150\n",
            "1002/1002 [==============================] - 1s 805us/step - loss: 18.3630 - val_loss: 23.3323\n",
            "Epoch 112/150\n",
            "1002/1002 [==============================] - 1s 777us/step - loss: 19.2199 - val_loss: 24.0981\n",
            "Epoch 113/150\n",
            "1002/1002 [==============================] - 1s 810us/step - loss: 17.8154 - val_loss: 22.6227\n",
            "Epoch 114/150\n",
            "1002/1002 [==============================] - 1s 772us/step - loss: 17.2778 - val_loss: 20.4412\n",
            "Epoch 115/150\n",
            "1002/1002 [==============================] - 1s 808us/step - loss: 17.4493 - val_loss: 21.4494\n",
            "Epoch 116/150\n",
            "1002/1002 [==============================] - 1s 794us/step - loss: 17.5158 - val_loss: 21.0249\n",
            "Epoch 117/150\n",
            "1002/1002 [==============================] - 1s 796us/step - loss: 17.2068 - val_loss: 28.1637\n",
            "Epoch 118/150\n",
            "1002/1002 [==============================] - 1s 807us/step - loss: 16.8505 - val_loss: 20.5675\n",
            "Epoch 119/150\n",
            "1002/1002 [==============================] - 1s 753us/step - loss: 17.7308 - val_loss: 23.5173\n",
            "Epoch 120/150\n",
            "1002/1002 [==============================] - 1s 783us/step - loss: 17.6661 - val_loss: 26.8256\n",
            "Epoch 121/150\n",
            "1002/1002 [==============================] - 1s 786us/step - loss: 18.0999 - val_loss: 19.2997\n",
            "Epoch 122/150\n",
            "1002/1002 [==============================] - 1s 807us/step - loss: 18.3358 - val_loss: 20.6726\n",
            "Epoch 123/150\n",
            "1002/1002 [==============================] - 1s 785us/step - loss: 16.6507 - val_loss: 19.3283\n",
            "Epoch 124/150\n",
            "1002/1002 [==============================] - 1s 749us/step - loss: 16.5055 - val_loss: 25.4650\n",
            "Epoch 125/150\n",
            "1002/1002 [==============================] - 1s 768us/step - loss: 17.2312 - val_loss: 19.8508\n",
            "Epoch 126/150\n",
            "1002/1002 [==============================] - 1s 777us/step - loss: 16.2661 - val_loss: 20.3323\n",
            "Epoch 127/150\n",
            "1002/1002 [==============================] - 1s 779us/step - loss: 16.3060 - val_loss: 30.1077\n",
            "Epoch 128/150\n",
            "1002/1002 [==============================] - 1s 747us/step - loss: 16.9815 - val_loss: 19.4926\n",
            "Epoch 129/150\n",
            "1002/1002 [==============================] - 1s 758us/step - loss: 16.1345 - val_loss: 19.3639\n",
            "Epoch 130/150\n",
            "1002/1002 [==============================] - 1s 776us/step - loss: 15.8194 - val_loss: 26.0291\n",
            "Epoch 131/150\n",
            "1002/1002 [==============================] - 1s 775us/step - loss: 15.7452 - val_loss: 19.1642\n",
            "Epoch 132/150\n",
            "1002/1002 [==============================] - 1s 794us/step - loss: 16.2333 - val_loss: 21.0612\n",
            "Epoch 133/150\n",
            "1002/1002 [==============================] - 1s 765us/step - loss: 14.8339 - val_loss: 18.4474\n",
            "Epoch 134/150\n",
            "1002/1002 [==============================] - 1s 797us/step - loss: 14.3470 - val_loss: 18.2944\n",
            "Epoch 135/150\n",
            "1002/1002 [==============================] - 1s 804us/step - loss: 14.7809 - val_loss: 17.2463\n",
            "Epoch 136/150\n",
            "1002/1002 [==============================] - 1s 824us/step - loss: 14.7190 - val_loss: 20.7574\n",
            "Epoch 137/150\n",
            "1002/1002 [==============================] - 1s 779us/step - loss: 15.4089 - val_loss: 19.4154\n",
            "Epoch 138/150\n",
            "1002/1002 [==============================] - 1s 758us/step - loss: 13.8667 - val_loss: 21.4117\n",
            "Epoch 139/150\n",
            "1002/1002 [==============================] - 1s 784us/step - loss: 13.8209 - val_loss: 16.2448\n",
            "Epoch 140/150\n",
            "1002/1002 [==============================] - 1s 772us/step - loss: 13.6993 - val_loss: 16.0230\n",
            "Epoch 141/150\n",
            "1002/1002 [==============================] - 1s 767us/step - loss: 14.1784 - val_loss: 18.9903\n",
            "Epoch 142/150\n",
            "1002/1002 [==============================] - 1s 752us/step - loss: 13.6690 - val_loss: 16.4005\n",
            "Epoch 143/150\n",
            "1002/1002 [==============================] - 1s 771us/step - loss: 13.1165 - val_loss: 20.7033\n",
            "Epoch 144/150\n",
            "1002/1002 [==============================] - 1s 796us/step - loss: 13.3488 - val_loss: 17.7727\n",
            "Epoch 145/150\n",
            "1002/1002 [==============================] - 1s 784us/step - loss: 13.0159 - val_loss: 18.6623\n",
            "Epoch 146/150\n",
            "1002/1002 [==============================] - 1s 765us/step - loss: 14.1561 - val_loss: 15.8735\n",
            "Epoch 147/150\n",
            "1002/1002 [==============================] - 1s 765us/step - loss: 13.1197 - val_loss: 17.2930\n",
            "Epoch 148/150\n",
            "1002/1002 [==============================] - 1s 798us/step - loss: 12.8970 - val_loss: 15.2772\n",
            "Epoch 149/150\n",
            "1002/1002 [==============================] - 1s 817us/step - loss: 12.9552 - val_loss: 14.8541\n",
            "Epoch 150/150\n",
            "1002/1002 [==============================] - 1s 771us/step - loss: 12.4555 - val_loss: 15.8107\n"
          ],
          "name": "stdout"
        }
      ]
    },
    {
      "cell_type": "markdown",
      "metadata": {
        "id": "hGcioM0lFRrc",
        "colab_type": "text"
      },
      "source": [
        "I have used 150 epochs,and loss value has decreased from 18630 to 14 and val_loss has decreased from 12369 to 20."
      ]
    },
    {
      "cell_type": "markdown",
      "metadata": {
        "id": "zPhoJsiDOt6e",
        "colab_type": "text"
      },
      "source": [
        "Plotting the train loss and validation loss on y-axis and epochs on x-axis."
      ]
    },
    {
      "cell_type": "code",
      "metadata": {
        "id": "qxtDfqIWT0D4",
        "colab_type": "code",
        "colab": {
          "base_uri": "https://localhost:8080/",
          "height": 295
        },
        "outputId": "1459275d-b9ba-4082-c91a-19e66f8147b6"
      },
      "source": [
        "tr_loss = history.history['loss']\n",
        "val_loss = history.history['val_loss']\n",
        "ep = list(range(1,151))\n",
        "plt.plot(ep,tr_loss,color='r')\n",
        "plt.plot(ep,val_loss,color='b')\n",
        "plt.title('visualization')\n",
        "plt.xlabel('ep')\n",
        "plt.ylabel('tr_loss and val_loss')\n",
        "plt.show()"
      ],
      "execution_count": 25,
      "outputs": [
        {
          "output_type": "display_data",
          "data": {
            "image/png": "[encoded data removed]",
            "text/plain": [
              "<Figure size 432x288 with 1 Axes>"
            ]
          },
          "metadata": {
            "tags": [],
            "needs_background": "light"
          }
        }
      ]
    },
    {
      "cell_type": "markdown",
      "metadata": {
        "id": "Wbcz5qy7uDkX",
        "colab_type": "text"
      },
      "source": [
        "# Evaluating the model with test data"
      ]
    },
    {
      "cell_type": "code",
      "metadata": {
        "id": "t2wBkIwhttmt",
        "colab_type": "code",
        "colab": {
          "base_uri": "https://localhost:8080/",
          "height": 1000
        },
        "outputId": "30fb5f4f-db74-404e-e4dc-21032d0ae8dd"
      },
      "source": [
        "model.predict(X_test_sc)"
      ],
      "execution_count": 26,
      "outputs": [
        {
          "output_type": "execute_result",
          "data": {
            "text/plain": [
              "array([[160.38019 ],\n",
              "       [160.69226 ],\n",
              "       [159.99802 ],\n",
              "       [160.63934 ],\n",
              "       [161.38501 ],\n",
              "       [163.54922 ],\n",
              "       [163.96567 ],\n",
              "       [163.16531 ],\n",
              "       [161.74355 ],\n",
              "       [162.66373 ],\n",
              "       [161.91585 ],\n",
              "       [160.34654 ],\n",
              "       [160.05939 ],\n",
              "       [157.32932 ],\n",
              "       [156.20074 ],\n",
              "       [155.94736 ],\n",
              "       [156.20584 ],\n",
              "       [156.31699 ],\n",
              "       [156.48782 ],\n",
              "       [155.14818 ],\n",
              "       [154.5563  ],\n",
              "       [153.84695 ],\n",
              "       [153.96747 ],\n",
              "       [153.72595 ],\n",
              "       [154.05157 ],\n",
              "       [153.55101 ],\n",
              "       [152.82799 ],\n",
              "       [152.9974  ],\n",
              "       [152.52835 ],\n",
              "       [152.31581 ],\n",
              "       [152.12868 ],\n",
              "       [151.89368 ],\n",
              "       [151.32681 ],\n",
              "       [150.41043 ],\n",
              "       [149.45111 ],\n",
              "       [148.7449  ],\n",
              "       [148.38979 ],\n",
              "       [148.53027 ],\n",
              "       [148.91379 ],\n",
              "       [148.0028  ],\n",
              "       [146.66467 ],\n",
              "       [145.5524  ],\n",
              "       [144.14041 ],\n",
              "       [143.61502 ],\n",
              "       [143.30434 ],\n",
              "       [143.10251 ],\n",
              "       [143.08649 ],\n",
              "       [142.96213 ],\n",
              "       [142.33826 ],\n",
              "       [141.93039 ],\n",
              "       [142.3598  ],\n",
              "       [143.78743 ],\n",
              "       [145.77817 ],\n",
              "       [147.08269 ],\n",
              "       [147.5777  ],\n",
              "       [147.17531 ],\n",
              "       [145.9232  ],\n",
              "       [145.03105 ],\n",
              "       [143.59663 ],\n",
              "       [142.82347 ],\n",
              "       [142.81982 ],\n",
              "       [143.4025  ],\n",
              "       [144.70712 ],\n",
              "       [145.71448 ],\n",
              "       [146.41763 ],\n",
              "       [146.44626 ],\n",
              "       [146.51039 ],\n",
              "       [145.91003 ],\n",
              "       [146.1626  ],\n",
              "       [145.74712 ],\n",
              "       [145.54102 ],\n",
              "       [146.4606  ],\n",
              "       [147.45535 ],\n",
              "       [146.70926 ],\n",
              "       [143.5401  ],\n",
              "       [138.95145 ],\n",
              "       [133.57596 ],\n",
              "       [132.9621  ],\n",
              "       [133.92374 ],\n",
              "       [134.44579 ],\n",
              "       [135.5765  ],\n",
              "       [136.21646 ],\n",
              "       [136.75668 ],\n",
              "       [136.08957 ],\n",
              "       [134.04182 ],\n",
              "       [131.08282 ],\n",
              "       [129.14204 ],\n",
              "       [128.67862 ],\n",
              "       [129.70909 ],\n",
              "       [131.26163 ],\n",
              "       [131.55594 ],\n",
              "       [131.089   ],\n",
              "       [130.24669 ],\n",
              "       [128.71608 ],\n",
              "       [125.990326],\n",
              "       [123.438095],\n",
              "       [121.609886],\n",
              "       [121.25225 ],\n",
              "       [121.145584],\n",
              "       [120.27451 ],\n",
              "       [119.02003 ],\n",
              "       [118.040245],\n",
              "       [116.41204 ],\n",
              "       [113.55205 ],\n",
              "       [109.657845],\n",
              "       [106.26162 ],\n",
              "       [103.830414],\n",
              "       [102.57    ],\n",
              "       [101.946266],\n",
              "       [102.225914],\n",
              "       [102.62823 ],\n",
              "       [102.95965 ],\n",
              "       [102.41896 ],\n",
              "       [102.04629 ],\n",
              "       [102.05421 ],\n",
              "       [103.19123 ],\n",
              "       [104.2826  ],\n",
              "       [105.15663 ],\n",
              "       [106.22207 ],\n",
              "       [108.001564],\n",
              "       [109.91645 ],\n",
              "       [111.89536 ],\n",
              "       [113.417534],\n",
              "       [114.47463 ],\n",
              "       [114.29861 ],\n",
              "       [113.59272 ],\n",
              "       [112.33686 ],\n",
              "       [111.43179 ],\n",
              "       [110.55581 ],\n",
              "       [109.577576],\n",
              "       [108.84953 ],\n",
              "       [105.462074],\n",
              "       [100.02309 ],\n",
              "       [ 94.02604 ],\n",
              "       [ 91.981285],\n",
              "       [ 91.66161 ],\n",
              "       [ 93.004524],\n",
              "       [ 94.3722  ],\n",
              "       [ 94.89698 ],\n",
              "       [ 94.67335 ],\n",
              "       [ 94.70737 ],\n",
              "       [ 94.75294 ],\n",
              "       [ 94.91515 ],\n",
              "       [ 95.348854],\n",
              "       [ 96.63615 ],\n",
              "       [ 97.54092 ],\n",
              "       [ 97.8917  ],\n",
              "       [ 97.573524],\n",
              "       [ 96.559944],\n",
              "       [ 95.39883 ],\n",
              "       [ 94.229095],\n",
              "       [ 94.3505  ],\n",
              "       [ 95.84168 ],\n",
              "       [ 98.17436 ],\n",
              "       [ 99.49886 ],\n",
              "       [ 99.97489 ],\n",
              "       [ 99.05661 ],\n",
              "       [ 97.39681 ],\n",
              "       [ 95.74766 ],\n",
              "       [ 95.27499 ],\n",
              "       [ 95.6679  ],\n",
              "       [ 96.97565 ],\n",
              "       [ 98.14074 ],\n",
              "       [ 99.08762 ],\n",
              "       [ 99.77095 ],\n",
              "       [100.00651 ],\n",
              "       [ 99.19921 ],\n",
              "       [ 97.70672 ],\n",
              "       [ 96.026886],\n",
              "       [ 95.161194],\n",
              "       [ 93.92075 ],\n",
              "       [ 92.957985],\n",
              "       [ 91.66991 ],\n",
              "       [ 90.200874],\n",
              "       [ 88.23038 ],\n",
              "       [ 87.0218  ],\n",
              "       [ 86.67234 ],\n",
              "       [ 86.673645],\n",
              "       [ 86.79547 ],\n",
              "       [ 86.75962 ],\n",
              "       [ 86.599846],\n",
              "       [ 85.7275  ],\n",
              "       [ 84.7149  ],\n",
              "       [ 84.16465 ],\n",
              "       [ 83.73744 ],\n",
              "       [ 83.167946],\n",
              "       [ 82.599846],\n",
              "       [ 82.28145 ],\n",
              "       [ 81.798164],\n",
              "       [ 81.62533 ],\n",
              "       [ 81.475105],\n",
              "       [ 80.94258 ],\n",
              "       [ 80.39146 ],\n",
              "       [ 80.15548 ],\n",
              "       [ 80.32488 ],\n",
              "       [ 83.33174 ],\n",
              "       [ 87.9844  ],\n",
              "       [ 91.49123 ],\n",
              "       [ 92.01156 ],\n",
              "       [ 91.6976  ],\n",
              "       [ 90.80912 ],\n",
              "       [ 90.16585 ],\n",
              "       [ 89.8986  ],\n",
              "       [ 89.55993 ],\n",
              "       [ 89.67923 ],\n",
              "       [ 90.46702 ],\n",
              "       [ 93.093025],\n",
              "       [ 96.591415],\n",
              "       [ 99.38875 ],\n",
              "       [102.11577 ],\n",
              "       [103.516304],\n",
              "       [103.034096],\n",
              "       [100.87417 ],\n",
              "       [100.11988 ],\n",
              "       [100.199455],\n",
              "       [101.557   ],\n",
              "       [103.00854 ],\n",
              "       [103.49653 ],\n",
              "       [103.20544 ],\n",
              "       [102.915764],\n",
              "       [102.65421 ],\n",
              "       [101.84549 ],\n",
              "       [101.13315 ],\n",
              "       [100.96317 ],\n",
              "       [101.32795 ],\n",
              "       [101.4064  ],\n",
              "       [101.25301 ],\n",
              "       [100.98327 ],\n",
              "       [102.288124],\n",
              "       [104.623055],\n",
              "       [107.97867 ],\n",
              "       [110.552635],\n",
              "       [112.30052 ],\n",
              "       [112.46143 ],\n",
              "       [112.20565 ],\n",
              "       [112.58237 ],\n",
              "       [114.142006],\n",
              "       [115.66754 ],\n",
              "       [116.43999 ],\n",
              "       [116.5476  ],\n",
              "       [116.94227 ],\n",
              "       [117.56504 ],\n",
              "       [118.42031 ],\n",
              "       [119.61761 ],\n",
              "       [121.23945 ],\n",
              "       [122.718544],\n",
              "       [123.26404 ],\n",
              "       [122.64367 ],\n",
              "       [120.84187 ],\n",
              "       [119.0403  ],\n",
              "       [117.04607 ]], dtype=float32)"
            ]
          },
          "metadata": {
            "tags": []
          },
          "execution_count": 26
        }
      ]
    },
    {
      "cell_type": "markdown",
      "metadata": {
        "id": "cU_n10-IUwZb",
        "colab_type": "text"
      },
      "source": [
        "# RESULT VISUALIZATION"
      ]
    },
    {
      "cell_type": "markdown",
      "metadata": {
        "id": "2iL_llzzPKAg",
        "colab_type": "text"
      },
      "source": [
        "Plotting actual and predicted values."
      ]
    },
    {
      "cell_type": "code",
      "metadata": {
        "id": "HmTsAAmsT0D8",
        "colab_type": "code",
        "colab": {
          "base_uri": "https://localhost:8080/",
          "height": 295
        },
        "outputId": "338f0434-396d-4cdd-bcf3-1c8d3f984234"
      },
      "source": [
        "plt.plot(range(len(X_test_sc)),model.predict(X_test_sc).flat,color='r')#predicted values\n",
        "plt.plot(range(len(X_test_sc)),y_test,color='b')#actual values\n",
        "plt.title('predicting the open value')\n",
        "plt.xlabel('range')\n",
        "plt.ylabel('predicted value and true value')\n",
        "plt.show()"
      ],
      "execution_count": 27,
      "outputs": [
        {
          "output_type": "display_data",
          "data": {
            "image/png": "[encoded data removed]",
            "text/plain": [
              "<Figure size 432x288 with 1 Axes>"
            ]
          },
          "metadata": {
            "tags": [],
            "needs_background": "light"
          }
        }
      ]
    },
    {
      "cell_type": "markdown",
      "metadata": {
        "id": "gqUXoRdkHY2U",
        "colab_type": "text"
      },
      "source": [
        "From the above plot, we can say that both predicted values and actual values are same"
      ]
    },
    {
      "cell_type": "markdown",
      "metadata": {
        "id": "nEAtwTy5qeOI",
        "colab_type": "text"
      },
      "source": [
        "prediction"
      ]
    },
    {
      "cell_type": "code",
      "metadata": {
        "scrolled": false,
        "id": "5u-vsLcJT0D6",
        "colab_type": "code",
        "colab": {
          "base_uri": "https://localhost:8080/",
          "height": 35
        },
        "outputId": "8be08c84-c475-48d0-8ef5-251b59b056ef"
      },
      "source": [
        "model.predict(X_test_sc[0].reshape(1,5,1))"
      ],
      "execution_count": 33,
      "outputs": [
        {
          "output_type": "execute_result",
          "data": {
            "text/plain": [
              "array([[160.38017]], dtype=float32)"
            ]
          },
          "metadata": {
            "tags": []
          },
          "execution_count": 33
        }
      ]
    },
    {
      "cell_type": "code",
      "metadata": {
        "id": "eisxpCmvT0EE",
        "colab_type": "code",
        "colab": {
          "base_uri": "https://localhost:8080/",
          "height": 35
        },
        "outputId": "706346fc-2c09-4b48-9818-d5bc81018545"
      },
      "source": [
        "y_test[1002]"
      ],
      "execution_count": 29,
      "outputs": [
        {
          "output_type": "execute_result",
          "data": {
            "text/plain": [
              "158.29"
            ]
          },
          "metadata": {
            "tags": []
          },
          "execution_count": 29
        }
      ]
    },
    {
      "cell_type": "markdown",
      "metadata": {
        "id": "--vU7tvMPxji",
        "colab_type": "text"
      },
      "source": [
        "# CONCLUSION\n",
        "- I have not used Dropout layer,as there is no overfitting in the data.\n",
        "- I have not used another model,because I got model predicted value as 160.3 and actual value as 158.29.Both the values are almost similar.\n"
      ]
    },
    {
      "cell_type": "markdown",
      "metadata": {
        "id": "6UqP3SoDQVX3",
        "colab_type": "text"
      },
      "source": [
        ""
      ]
    }
  ]
}